{
 "cells": [
  {
   "cell_type": "code",
   "execution_count": 14,
   "id": "065bf4ca",
   "metadata": {},
   "outputs": [
    {
     "name": "stdout",
     "output_type": "stream",
     "text": [
      "0.8199999999999998\n"
     ]
    }
   ],
   "source": [
    "from scipy.integrate import dblquad\n",
    "def areaBetween(a, b, f1, f2):\n",
    "    one = lambda x, y: 1\n",
    "    area, _ =dblquad(one, a, b, f1, f2)\n",
    "    return area\n",
    "\n",
    "                   \n",
    "                                        \n",
    "                                        \n",
    "                            \n",
    "                        \n",
    "f=lambda x: 1.4-x                  \n",
    "Aarea=areaBetween(0, 1, 0, f)-areaBetween(0, 0.4, 1, f)        \n",
    "Sarea=areaBetween(0, 1, 0, 1)    \n",
    "print(Aarea/Sarea)\n",
    "\n"
   ]
  },
  {
   "cell_type": "code",
   "execution_count": null,
   "id": "b56ed70d",
   "metadata": {},
   "outputs": [],
   "source": []
  },
  {
   "cell_type": "code",
   "execution_count": null,
   "id": "8d757a06",
   "metadata": {},
   "outputs": [],
   "source": []
  }
 ],
 "metadata": {
  "kernelspec": {
   "display_name": "Python 3 (ipykernel)",
   "language": "python",
   "name": "python3"
  },
  "language_info": {
   "codemirror_mode": {
    "name": "ipython",
    "version": 3
   },
   "file_extension": ".py",
   "mimetype": "text/x-python",
   "name": "python",
   "nbconvert_exporter": "python",
   "pygments_lexer": "ipython3",
   "version": "3.9.7"
  }
 },
 "nbformat": 4,
 "nbformat_minor": 5
}
