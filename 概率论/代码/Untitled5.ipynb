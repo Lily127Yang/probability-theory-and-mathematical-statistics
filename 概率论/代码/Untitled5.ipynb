{
 "cells": [
  {
   "cell_type": "code",
   "execution_count": 42,
   "id": "a32c3087",
   "metadata": {},
   "outputs": [
    {
     "name": "stdout",
     "output_type": "stream",
     "text": [
      "0.95\n",
      "0.050000000000000044\n"
     ]
    },
    {
     "data": {
      "image/png": "[encoded data removed]",
      "text/plain": [
       "<Figure size 432x288 with 1 Axes>"
      ]
     },
     "metadata": {
      "needs_background": "light"
     },
     "output_type": "display_data"
    }
   ],
   "source": [
    "import scipy\n",
    "from scipy import stats\n",
    "import numpy as np\n",
    "import matplotlib.pyplot as plt\n",
    "alpha=0.05\n",
    "sum=0\n",
    "iterations=100\n",
    "for i in range(100):\n",
    "    n=10\n",
    "    samples=stats.norm.rvs(10,4,size=n)\n",
    "    average=np.average(samples)\n",
    "    std=4\n",
    "    left=average-scipy.stats.t.ppf(1-alpha/2,n-1)*std/(n**0.5)\n",
    "    right=average+scipy.stats.t.ppf(1-alpha/2,n-1)*std/(n**0.5)\n",
    "    region=(left,right)\n",
    "    plt.plot([0,100],[0,0],color='black')\n",
    "    plt.vlines(i,left,right)\n",
    "    if (left<=10)and (10<=right):\n",
    "        sum+=1\n",
    "print(sum/iterations)\n",
    "print(1-sum/iterations)"
   ]
  },
  {
   "cell_type": "code",
   "execution_count": 29,
   "id": "286b2609",
   "metadata": {},
   "outputs": [],
   "source": [
    "import numpy as np\n",
    "import math\n",
    "sum=0\n",
    "iterations=1000000\n",
    "for i in range(iterations):\n",
    "    n=10\n",
    "    samples=stats.norm.rvs(20000,400,size=n)\n",
    "    average=np.average(samples)"
   ]
  },
  {
   "cell_type": "code",
   "execution_count": null,
   "id": "eacbd361",
   "metadata": {},
   "outputs": [],
   "source": []
  }
 ],
 "metadata": {
  "kernelspec": {
   "display_name": "Python 3 (ipykernel)",
   "language": "python",
   "name": "python3"
  },
  "language_info": {
   "codemirror_mode": {
    "name": "ipython",
    "version": 3
   },
   "file_extension": ".py",
   "mimetype": "text/x-python",
   "name": "python",
   "nbconvert_exporter": "python",
   "pygments_lexer": "ipython3",
   "version": "3.9.7"
  }
 },
 "nbformat": 4,
 "nbformat_minor": 5
}
