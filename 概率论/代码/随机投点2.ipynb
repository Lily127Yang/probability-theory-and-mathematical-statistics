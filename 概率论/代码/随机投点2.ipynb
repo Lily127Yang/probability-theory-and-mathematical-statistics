{
 "cells": [
  {
   "cell_type": "code",
   "execution_count": 22,
   "id": "2d6eff0e",
   "metadata": {},
   "outputs": [
    {
     "name": "stdout",
     "output_type": "stream",
     "text": [
      "2.3493858041726945\n"
     ]
    }
   ],
   "source": [
    "import numpy as np\n",
    "import math\n",
    "k=0\n",
    "n=0\n",
    "while n<10000000:\n",
    " x=np.random.random()\n",
    " y=np.random.random()\n",
    " n += 1\n",
    " if y <= ((math.exp(2*x-1)-math.exp(-1))/(math.exp(1)-math.exp(-1))):\n",
    "   k+=1\n",
    "print(2*(math.exp(1)-math.exp(-1))*k/n+2*math.exp(-1))\n",
    "   \n"
   ]
  },
  {
   "cell_type": "code",
   "execution_count": null,
   "id": "9217066c",
   "metadata": {},
   "outputs": [],
   "source": []
  }
 ],
 "metadata": {
  "kernelspec": {
   "display_name": "Python 3 (ipykernel)",
   "language": "python",
   "name": "python3"
  },
  "language_info": {
   "codemirror_mode": {
    "name": "ipython",
    "version": 3
   },
   "file_extension": ".py",
   "mimetype": "text/x-python",
   "name": "python",
   "nbconvert_exporter": "python",
   "pygments_lexer": "ipython3",
   "version": "3.9.7"
  }
 },
 "nbformat": 4,
 "nbformat_minor": 5
}
