{
 "cells": [
  {
   "cell_type": "code",
   "execution_count": 3,
   "id": "c08c2f76",
   "metadata": {},
   "outputs": [
    {
     "name": "stdout",
     "output_type": "stream",
     "text": [
      "0.4179088751732325\n"
     ]
    }
   ],
   "source": [
    "import numpy as np\n",
    "import math\n",
    "k=0\n",
    "n=0\n",
    "s=0\n",
    "while n<10000000:\n",
    " x=np.random.random()\n",
    " n += 1\n",
    " s += (math.exp(x)-1)/(math.exp(1)-1)\n",
    "print(s/n)\n",
    "   \n"
   ]
  },
  {
   "cell_type": "code",
   "execution_count": null,
   "id": "8f0e8701",
   "metadata": {},
   "outputs": [],
   "source": []
  }
 ],
 "metadata": {
  "kernelspec": {
   "display_name": "Python 3 (ipykernel)",
   "language": "python",
   "name": "python3"
  },
  "language_info": {
   "codemirror_mode": {
    "name": "ipython",
    "version": 3
   },
   "file_extension": ".py",
   "mimetype": "text/x-python",
   "name": "python",
   "nbconvert_exporter": "python",
   "pygments_lexer": "ipython3",
   "version": "3.9.7"
  }
 },
 "nbformat": 4,
 "nbformat_minor": 5
}
