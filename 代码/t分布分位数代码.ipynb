{
 "cells": [
  {
   "cell_type": "code",
   "execution_count": 7,
   "id": "deb2a062",
   "metadata": {},
   "outputs": [
    {
     "name": "stdout",
     "output_type": "stream",
     "text": [
      "单侧左分位点： 2.2281388519649385\n",
      "单侧右分位点： -2.2281388519649385\n",
      "双侧分位点： (-0.03213080565052476, 0.03213080565052462)\n"
     ]
    }
   ],
   "source": [
    "from scipy import stats\n",
    "\n",
    "#显著性水平\n",
    "a = 0.975\n",
    "#自由度 \n",
    "df = 10\n",
    "\n",
    "# 单侧 左分位点\n",
    "T_a_left =stats.t.ppf(a,df)\n",
    "# 单侧 右分位点\n",
    "T_a_right =stats.t.isf(a,df)\n",
    "# 双侧分位点\n",
    "T_a_2 = stats.t.interval(1-a,df)\n",
    "\n",
    "print('单侧左分位点：',T_a_left)\n",
    "print('单侧右分位点：',T_a_right)\n",
    "print('双侧分位点：',T_a_2)\n"
   ]
  },
  {
   "cell_type": "code",
   "execution_count": null,
   "id": "e90c51eb",
   "metadata": {},
   "outputs": [],
   "source": []
  },
  {
   "cell_type": "code",
   "execution_count": null,
   "id": "273f10d7",
   "metadata": {},
   "outputs": [],
   "source": []
  }
 ],
 "metadata": {
  "kernelspec": {
   "display_name": "Python 3 (ipykernel)",
   "language": "python",
   "name": "python3"
  },
  "language_info": {
   "codemirror_mode": {
    "name": "ipython",
    "version": 3
   },
   "file_extension": ".py",
   "mimetype": "text/x-python",
   "name": "python",
   "nbconvert_exporter": "python",
   "pygments_lexer": "ipython3",
   "version": "3.9.7"
  }
 },
 "nbformat": 4,
 "nbformat_minor": 5
}
