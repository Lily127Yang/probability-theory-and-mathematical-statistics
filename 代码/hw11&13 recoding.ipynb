{
 "cells": [
  {
   "cell_type": "code",
   "execution_count": 13,
   "id": "e2483d9c",
   "metadata": {},
   "outputs": [
    {
     "name": "stdout",
     "output_type": "stream",
     "text": [
      "0.4178615\n"
     ]
    }
   ],
   "source": [
    "import numpy as np\n",
    "import math\n",
    "sum=0\n",
    "iterations=10000000\n",
    "for i in range(iterations):\n",
    " x=np.random.uniform(0,1)\n",
    " y=np.random.uniform(0,1)\n",
    " if y <= ((math.exp(x)-1)/(math.exp(1)-1)):\n",
    "   sum+=1\n",
    "print(sum/iterations)"
   ]
  },
  {
   "cell_type": "code",
   "execution_count": null,
   "id": "2afb44f6",
   "metadata": {},
   "outputs": [],
   "source": []
  },
  {
   "cell_type": "code",
   "execution_count": null,
   "id": "ef3e6ac9",
   "metadata": {},
   "outputs": [],
   "source": []
  }
 ],
 "metadata": {
  "kernelspec": {
   "display_name": "Python 3 (ipykernel)",
   "language": "python",
   "name": "python3"
  },
  "language_info": {
   "codemirror_mode": {
    "name": "ipython",
    "version": 3
   },
   "file_extension": ".py",
   "mimetype": "text/x-python",
   "name": "python",
   "nbconvert_exporter": "python",
   "pygments_lexer": "ipython3",
   "version": "3.9.7"
  }
 },
 "nbformat": 4,
 "nbformat_minor": 5
}
