{
 "cells": [
  {
   "cell_type": "code",
   "execution_count": null,
   "id": "f0ed7820",
   "metadata": {},
   "outputs": [],
   "source": [
    "import numpy as np\n",
    "import math\n",
    "k=0\n",
    "n=0\n",
    "s=0\n",
    "while n<10000000:\n",
    " x=np.random.random()\n",
    " n += 1\n",
    " s += (math.exp(2*x-1)-math.exp(-1))/(math.exp(1)-math.exp(-1))\n",
    "print(2*(math.exp(1)-math.exp(-1))*s/n+2*math.exp(-1))\n",
    "   "
   ]
  }
 ],
 "metadata": {
  "kernelspec": {
   "display_name": "Python 3 (ipykernel)",
   "language": "python",
   "name": "python3"
  },
  "language_info": {
   "codemirror_mode": {
    "name": "ipython",
    "version": 3
   },
   "file_extension": ".py",
   "mimetype": "text/x-python",
   "name": "python",
   "nbconvert_exporter": "python",
   "pygments_lexer": "ipython3",
   "version": "3.9.7"
  }
 },
 "nbformat": 4,
 "nbformat_minor": 5
}
