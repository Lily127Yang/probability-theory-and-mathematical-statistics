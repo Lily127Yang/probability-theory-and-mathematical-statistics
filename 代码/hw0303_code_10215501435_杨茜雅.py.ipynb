{
 "cells": [
  {
   "cell_type": "code",
   "execution_count": 31,
   "id": "aa1b77f7",
   "metadata": {},
   "outputs": [
    {
     "name": "stdout",
     "output_type": "stream",
     "text": [
      "0.82037\n"
     ]
    }
   ],
   "source": [
    "import numpy as np\n",
    "\n",
    "n=0\n",
    "k=0\n",
    "while n<100000:\n",
    "  a=np.random.random()\n",
    "  b=np.random.random()\n",
    "  n += 1\n",
    "  if a+b <1.4:\n",
    "    k += 1\n",
    "p=k/n\n",
    "print(p)"
   ]
  },
  {
   "cell_type": "code",
   "execution_count": null,
   "id": "8e2733a0",
   "metadata": {},
   "outputs": [],
   "source": []
  },
  {
   "cell_type": "code",
   "execution_count": null,
   "id": "d84229b9",
   "metadata": {},
   "outputs": [],
   "source": []
  }
 ],
 "metadata": {
  "kernelspec": {
   "display_name": "Python 3 (ipykernel)",
   "language": "python",
   "name": "python3"
  },
  "language_info": {
   "codemirror_mode": {
    "name": "ipython",
    "version": 3
   },
   "file_extension": ".py",
   "mimetype": "text/x-python",
   "name": "python",
   "nbconvert_exporter": "python",
   "pygments_lexer": "ipython3",
   "version": "3.9.7"
  }
 },
 "nbformat": 4,
 "nbformat_minor": 5
}
