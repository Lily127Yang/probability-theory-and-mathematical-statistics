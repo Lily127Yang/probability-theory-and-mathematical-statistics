import numpy as np

n=0
k=0
while n<100000:
  a=np.random.random()
  b=np.random.random()
  n += 1
  if a+b <1.4:
    k += 1
p=k/n
print(p)