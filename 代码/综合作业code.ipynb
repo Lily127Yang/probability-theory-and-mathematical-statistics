{
 "cells": [
  {
   "cell_type": "code",
   "execution_count": 42,
   "id": "a593ecad",
   "metadata": {},
   "outputs": [
    {
     "name": "stdout",
     "output_type": "stream",
     "text": [
      "0.5573456138533487\n"
     ]
    }
   ],
   "source": []
  },
  {
   "cell_type": "code",
   "execution_count": 69,
   "id": "e8d5a683",
   "metadata": {},
   "outputs": [
    {
     "name": "stdout",
     "output_type": "stream",
     "text": [
      "47.17173357048744\n"
     ]
    }
   ],
   "source": [
    "import numpy as np\n",
    "import math\n",
    "sum=0\n",
    "iterations=100000\n",
    "for i in range(iterations):\n",
    "    x=np.random.uniform(2,4)\n",
    "    sum+=(math.exp(x))\n",
    "print(2*sum/(iterations))"
   ]
  },
  {
   "cell_type": "code",
   "execution_count": 71,
   "id": "d47d008b",
   "metadata": {},
   "outputs": [
    {
     "name": "stdout",
     "output_type": "stream",
     "text": [
      "0.6862395832928176\n"
     ]
    }
   ],
   "source": [
    "#平均值法算定积分近似值\n",
    "import numpy as np\n",
    "import math\n",
    "sum=0\n",
    "iterations=100000\n",
    "#自由度为50\n",
    "for i in range(iterations):\n",
    "    x=np.random.uniform(40,60)\n",
    "    sum+=(pow(0.5,25))*(pow(x,24))*(math.exp(-x/2))/(math.gamma(25))\n",
    "print(20*sum/(iterations))"
   ]
  },
  {
   "cell_type": "code",
   "execution_count": 65,
   "id": "46851651",
   "metadata": {},
   "outputs": [
    {
     "name": "stdout",
     "output_type": "stream",
     "text": [
      "0.5573456138533487\n"
     ]
    }
   ],
   "source": [
    "import numpy as np\n",
    "import math\n",
    "sum=0\n",
    "d=pow(60,24)*(math.exp(-30))\n",
    "c=pow(40,24)*(math.exp(-20))\n",
    "iterations=100000\n",
    "#自由度为50\n",
    "for i in range(iterations):\n",
    " x=np.random.uniform(0,1)\n",
    " y=np.random.uniform(0,1)\n",
    "if y<=((pow(40+20*x,24)*math.exp(-20-10*x)-c)/(d-c)):\n",
    "    sum+=1\n",
    "p=sum/iterations\n",
    "print((p*20*(d-c)+c*20)*(pow(1/2,25))/(math.gamma(25)))"
   ]
  },
  {
   "cell_type": "code",
   "execution_count": 105,
   "id": "d68c5645",
   "metadata": {},
   "outputs": [
    {
     "name": "stdout",
     "output_type": "stream",
     "text": [
      "0.6861319729706122\n"
     ]
    }
   ],
   "source": [
    "#随机投点法计算定积分近似值\n",
    "import numpy as np\n",
    "import math\n",
    "sum=0\n",
    "iterations=1000000\n",
    "for i in range(iterations):\n",
    "    x=np.random.uniform(40,60)\n",
    "    y=np.random.uniform(0,9*pow(10,29))\n",
    "    \n",
    "    if y<=((pow(x,24))*(math.exp(-x/2))):\n",
    "        sum+=1\n",
    "print((sum/iterations)*20*(9*pow(10,29))*(pow(0.5,25))/(math.gamma(25)))"
   ]
  },
  {
   "cell_type": "code",
   "execution_count": null,
   "id": "24032a4d",
   "metadata": {},
   "outputs": [],
   "source": []
  },
  {
   "cell_type": "code",
   "execution_count": null,
   "id": "0502c17e",
   "metadata": {},
   "outputs": [],
   "source": []
  }
 ],
 "metadata": {
  "kernelspec": {
   "display_name": "Python 3 (ipykernel)",
   "language": "python",
   "name": "python3"
  },
  "language_info": {
   "codemirror_mode": {
    "name": "ipython",
    "version": 3
   },
   "file_extension": ".py",
   "mimetype": "text/x-python",
   "name": "python",
   "nbconvert_exporter": "python",
   "pygments_lexer": "ipython3",
   "version": "3.9.7"
  }
 },
 "nbformat": 4,
 "nbformat_minor": 5
}
